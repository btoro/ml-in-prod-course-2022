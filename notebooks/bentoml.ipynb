{
 "cells": [
  {
   "cell_type": "markdown",
   "id": "6222273d-0132-4206-b1bf-5b6121d71426",
   "metadata": {
    "tags": []
   },
   "source": [
    "# Model serving using BentoML"
   ]
  },
  {
   "cell_type": "markdown",
   "id": "104b6f0b-e281-4437-b247-a53a8d094cb1",
   "metadata": {},
   "source": [
    "https://docs.bentoml.org/en/v0.13.1/quickstart.html\n",
    "\n",
    "\n",
    "- Install bentoML\n",
    "- Try to build your first bentoML service\n",
    "- Once you have it running, open the service in your browswer and try to make a prediction through your API\n",
    "\n"
   ]
  },
  {
   "cell_type": "code",
   "execution_count": null,
   "id": "012cfa56-d7a7-4ccb-9f4f-eb3b5aaadb0e",
   "metadata": {},
   "outputs": [],
   "source": []
  }
 ],
 "metadata": {
  "kernelspec": {
   "display_name": "Python 3 (ipykernel)",
   "language": "python",
   "name": "python3"
  },
  "language_info": {
   "codemirror_mode": {
    "name": "ipython",
    "version": 3
   },
   "file_extension": ".py",
   "mimetype": "text/x-python",
   "name": "python",
   "nbconvert_exporter": "python",
   "pygments_lexer": "ipython3",
   "version": "3.9.10"
  }
 },
 "nbformat": 4,
 "nbformat_minor": 5
}
