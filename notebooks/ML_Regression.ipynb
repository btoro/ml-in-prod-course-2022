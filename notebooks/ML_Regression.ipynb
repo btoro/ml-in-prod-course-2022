{
 "cells": [
  {
   "cell_type": "code",
   "execution_count": null,
   "id": "21d21fdb-8cfd-4be0-9acf-c813bd37504f",
   "metadata": {},
   "outputs": [],
   "source": [
    "%matplotlib inline\n",
    "import matplotlib\n",
    "import matplotlib.pyplot as plt\n",
    "import seaborn as sns\n",
    "sns.set()\n",
    "matplotlib.rcParams['figure.dpi'] = 144\n",
    "\n",
    "import pandas as pd\n",
    "import numpy as np"
   ]
  },
  {
   "cell_type": "markdown",
   "id": "e63c7e1b-a484-44b9-85cd-29abefe85a9c",
   "metadata": {
    "tags": []
   },
   "source": [
    "# 1. Regression - Let's predict house prices"
   ]
  },
  {
   "cell_type": "markdown",
   "id": "f79299ef-41ea-47e8-8d2d-1026af7e436f",
   "metadata": {
    "jp-MarkdownHeadingCollapsed": true,
    "tags": []
   },
   "source": [
    "## The Ames Housing dataset\n",
    "\n",
    "http://jse.amstat.org/v19n3/decock.pdf\n",
    "\n",
    "\n",
    "\"This paper presents a data set describing the sale of individual residential property in Ames, Iowa\n",
    "from 2006 to 2010. The data set contains 2930 observations and a large number of explanatory\n",
    "variables (23 nominal, 23 ordinal, 14 discrete, and 20 continuous) involved in assessing home\n",
    "values. I will discuss my previous use of the Boston Housing Data Set and I will suggest\n",
    "methods for incorporating this new data set as a final project in an undergraduate regression\n",
    "course.\"\n",
    "\n",
    "\n",
    "80 total features\n",
    "2930 examples\n",
    "\n"
   ]
  },
  {
   "cell_type": "code",
   "execution_count": null,
   "id": "2fe15661-58f5-449f-b6ba-24082d210eba",
   "metadata": {},
   "outputs": [],
   "source": [
    "df_dataset = pd.read_csv('http://jse.amstat.org/v19n3/decock/AmesHousing.txt', sep='\\t')\n",
    "df_dataset.head()"
   ]
  },
  {
   "cell_type": "code",
   "execution_count": null,
   "id": "7d5a3e5b-2e27-47a3-b070-2cba06170027",
   "metadata": {},
   "outputs": [],
   "source": [
    "df_dataset.shape"
   ]
  },
  {
   "cell_type": "code",
   "execution_count": null,
   "id": "bd42a9c7-c129-403d-a15d-e53216a76603",
   "metadata": {},
   "outputs": [],
   "source": [
    "df_dataset.columns"
   ]
  },
  {
   "cell_type": "markdown",
   "id": "da7a973e-5c63-47bb-9f4a-67e6c3830f92",
   "metadata": {},
   "source": [
    "To make things simple, lets limit the use of our features to start"
   ]
  },
  {
   "cell_type": "code",
   "execution_count": null,
   "id": "0a952d15-c959-4eb2-91fa-a0f65499ed2e",
   "metadata": {},
   "outputs": [],
   "source": [
    "columns = ['Overall Qual', 'Overall Cond', 'Gr Liv Area', 'Central Air', 'Total Bsmt SF', 'SalePrice']\n",
    "df = df_dataset[columns]\n",
    "df.head()"
   ]
  },
  {
   "cell_type": "code",
   "execution_count": null,
   "id": "3d491dc0-9f0b-489f-83b1-e0665634271d",
   "metadata": {},
   "outputs": [],
   "source": [
    "df.dtypes"
   ]
  },
  {
   "cell_type": "markdown",
   "id": "32e1d103-96e3-4cae-b090-57cf2ecfff86",
   "metadata": {},
   "source": [
    "\n",
    "We need to deal with string data in some way. Notice Central air and building type are  object types"
   ]
  },
  {
   "cell_type": "code",
   "execution_count": null,
   "id": "6bb3c0e9-20d6-4ccd-b3b8-c2baa072c3c5",
   "metadata": {},
   "outputs": [],
   "source": [
    "df['Central Air'].value_counts()"
   ]
  },
  {
   "cell_type": "markdown",
   "id": "d2c00305-0db6-4caa-8f57-64f2b834c3b7",
   "metadata": {},
   "source": [
    "Since there are two options for this feature, we can encode it as 0 and 1"
   ]
  },
  {
   "cell_type": "code",
   "execution_count": null,
   "id": "de6bbd15-e71c-4371-ba93-01838d997983",
   "metadata": {},
   "outputs": [],
   "source": [
    "df['Central Air'] = df['Central Air'].map({'N': 0, 'Y': 1})"
   ]
  },
  {
   "cell_type": "code",
   "execution_count": null,
   "id": "34531c2c-2a7d-43ed-a0cb-3419d985abc4",
   "metadata": {},
   "outputs": [],
   "source": [
    "df.head()"
   ]
  },
  {
   "cell_type": "markdown",
   "id": "c96f34d6-0b1a-4cbb-bf91-4bc8600d4d45",
   "metadata": {},
   "source": [
    "## Visualizing Data"
   ]
  },
  {
   "cell_type": "markdown",
   "id": "4f615d52-4c77-4612-8fad-c0f82e32c74f",
   "metadata": {},
   "source": [
    "Let's take a look at our data. Try to experiment with mulitple different libraries and see which one you like. Seaborn is neat:\n"
   ]
  },
  {
   "cell_type": "code",
   "execution_count": null,
   "id": "c9289990-e848-4579-bad5-dcd933446ff5",
   "metadata": {},
   "outputs": [],
   "source": [
    "\n",
    "sns.pairplot(\n",
    "    df,\n",
    "    corner=True,\n",
    "    height=2\n",
    ")\n"
   ]
  },
  {
   "cell_type": "markdown",
   "id": "d23e9ae4-503b-4ffa-89a5-cca9ad47997a",
   "metadata": {
    "tags": []
   },
   "source": [
    "## Linear Model"
   ]
  },
  {
   "cell_type": "markdown",
   "id": "a8209b03-1762-4a8e-867b-068037717d53",
   "metadata": {},
   "source": [
    "We'll start with just two columns in the data set.  `Overall Qual` and `SalePrice`.  Use Scikit-Learn's [`LinearRegression`](http://scikit-learn.org/stable/modules/generated/sklearn.linear_model.LinearRegression.html) to make a simple model that predicts income based on age.  "
   ]
  },
  {
   "cell_type": "code",
   "execution_count": null,
   "id": "84c7983e-f54d-47ee-b361-4a3988c392e9",
   "metadata": {},
   "outputs": [],
   "source": [
    "from sklearn.linear_model import LinearRegression\n",
    "\n",
    "X = df[['Overall Qual']]\n",
    "y= df['SalePrice']\n",
    "\n",
    "X,y = X.values, y.values"
   ]
  },
  {
   "cell_type": "code",
   "execution_count": null,
   "id": "06a617df-f849-45d1-8b55-e438e7505a1d",
   "metadata": {},
   "outputs": [],
   "source": [
    "price_est = LinearRegression()\n",
    "\n",
    "price_est.fit(X,y)"
   ]
  },
  {
   "cell_type": "code",
   "execution_count": null,
   "id": "e52c4b0f-f85c-4fab-bbf2-d14b15f9b083",
   "metadata": {},
   "outputs": [],
   "source": [
    "price_est.score(X,y)"
   ]
  },
  {
   "cell_type": "code",
   "execution_count": null,
   "id": "7bd86d08-9c11-4ff0-a5bf-f3eef33cc02c",
   "metadata": {},
   "outputs": [],
   "source": [
    "price_est.coef_"
   ]
  },
  {
   "cell_type": "code",
   "execution_count": null,
   "id": "95f3d7c2-3c4e-4117-b138-59efd64d5da3",
   "metadata": {},
   "outputs": [],
   "source": [
    "price_est.intercept_"
   ]
  },
  {
   "cell_type": "markdown",
   "id": "408805b2-fed0-4c60-a128-9e7c16acb53c",
   "metadata": {},
   "source": [
    "Lets plot and see how our estimator worked:"
   ]
  },
  {
   "cell_type": "code",
   "execution_count": null,
   "id": "982943b2-29fe-4bef-bdd1-37fd2a6ab30f",
   "metadata": {},
   "outputs": [],
   "source": [
    "f = sns.scatterplot(x=X.flatten(),y=y)\n",
    "plt.plot(X, price_est.predict(X), color='black', lw=2)\n",
    "\n",
    "f.set_xlabel('Overal Quality')\n",
    "f.set_ylabel('Sale Price ($)')"
   ]
  },
  {
   "cell_type": "code",
   "execution_count": null,
   "id": "29509584-692a-41c1-bdfc-dc4656c1c50a",
   "metadata": {},
   "outputs": [],
   "source": [
    "price_est.score(X,y)"
   ]
  },
  {
   "cell_type": "markdown",
   "id": "2b1e448f-aa3b-4a10-92c5-1275a19b9d09",
   "metadata": {},
   "source": [
    "Here the low $R^2$ score indicates underfitting.  Our model isn't very good, which shouldn't suprise us since we've ignored most of our data. "
   ]
  },
  {
   "cell_type": "markdown",
   "id": "054c4b10-90e3-4a1f-9ce7-4d820fe1a45f",
   "metadata": {
    "tags": []
   },
   "source": [
    "## Incorporate all features, and setting aside a proper testing set"
   ]
  },
  {
   "cell_type": "markdown",
   "id": "513679b9-ee44-4ea0-870d-2657b9baadc0",
   "metadata": {},
   "source": [
    "In this past section, we skipped setting apart a test set for validating our model. Let's do that before we get started"
   ]
  },
  {
   "cell_type": "code",
   "execution_count": null,
   "id": "f15650d8-ff8e-4380-ab37-32782c231a8a",
   "metadata": {},
   "outputs": [],
   "source": [
    "df.columns"
   ]
  },
  {
   "cell_type": "code",
   "execution_count": null,
   "id": "a5d66c4e-7de7-4c94-8de5-61d852f62a4f",
   "metadata": {},
   "outputs": [],
   "source": [
    "from sklearn.model_selection import train_test_split\n",
    "\n",
    "\n",
    "target = 'SalePrice'\n",
    "features = df.columns[df.columns != target]\n",
    "\n",
    "X = df[features]\n",
    "y= df[target]\n",
    "\n",
    "\n",
    "X,y = X.values, y.values # Convert to numpy arrays\n",
    "\n",
    "X_train, X_test, y_train, y_test = train_test_split(X, y, test_size=0.2, random_state=24)"
   ]
  },
  {
   "cell_type": "code",
   "execution_count": null,
   "id": "6764539c-97ab-40eb-9736-1d259f59113d",
   "metadata": {},
   "outputs": [],
   "source": [
    "print(f'x train shape: {X_train.shape}')\n",
    "print(f'x test shape: {X_test.shape}')"
   ]
  },
  {
   "cell_type": "code",
   "execution_count": null,
   "id": "801a21d5-5b3c-452c-8f56-899f31e64e0e",
   "metadata": {},
   "outputs": [],
   "source": [
    "\n",
    "# df[df.isna().any(axis=1)]\n",
    "# df = df.dropna()"
   ]
  },
  {
   "cell_type": "code",
   "execution_count": null,
   "id": "bda0042f-117a-43d9-8557-888aec13618a",
   "metadata": {},
   "outputs": [],
   "source": []
  },
  {
   "cell_type": "code",
   "execution_count": null,
   "id": "0b1cfadf-4302-4b57-937d-9a0762337a36",
   "metadata": {},
   "outputs": [],
   "source": [
    "price_est = LinearRegression()\n",
    "price_est.fit(X_train,y_train)"
   ]
  },
  {
   "cell_type": "code",
   "execution_count": null,
   "id": "5c0f7539-0570-479a-8e42-d91b6c7442f6",
   "metadata": {},
   "outputs": [],
   "source": [
    "price_est.score(X_test, y_test)"
   ]
  },
  {
   "cell_type": "markdown",
   "id": "e9a5aa32-dc7e-4f82-bef2-1f5699511bd3",
   "metadata": {},
   "source": [
    "Since our model uses multiple variables, we can't visualize the regression using a 2D plot. Instead, we can plot the residuals  (the differences or vertical distances between the actual and predicted values) versus the predicted values to diagnose our regression model. "
   ]
  },
  {
   "cell_type": "code",
   "execution_count": null,
   "id": "e2d0341f-92f8-47d3-9c3a-97c2796191ac",
   "metadata": {},
   "outputs": [],
   "source": [
    "y_train_pred = price_est.predict(X_train)\n",
    "y_test_pred = price_est.predict(X_test)"
   ]
  },
  {
   "cell_type": "code",
   "execution_count": null,
   "id": "26b502ef-b059-4d35-b615-2506cefc28ae",
   "metadata": {},
   "outputs": [],
   "source": [
    "y_train_pred = price_est.predict(X_train)\n",
    "y_test_pred = price_est.predict(X_test)\n",
    "\n",
    "x_max = np.max([np.max(y_train_pred), np.max(y_test_pred)])\n",
    "x_min = np.min([np.min(y_train_pred), np.min(y_test_pred)])\n",
    "\n",
    "fig, (ax1, ax2) = plt.subplots( 1, 2, figsize=(7, 3), sharey=True)\n",
    "\n",
    "ax1.scatter(\n",
    "    y_test_pred, y_test_pred - y_test,\n",
    "    c='limegreen', marker='s',\n",
    "    edgecolor='white',\n",
    "    label='Test data')\n",
    "ax2.scatter(\n",
    "    y_train_pred, y_train_pred - y_train,\n",
    "    c='steelblue', marker='o', edgecolor='white',\n",
    "    label='Training data')\n",
    "ax1.set_ylabel('Residuals')\n",
    "\n",
    "for ax in (ax1, ax2):\n",
    "    ax.set_xlabel('Predicted values')\n",
    "    ax.legend(loc='upper left')\n",
    "    ax.hlines(y=0, xmin=x_min-100, xmax=x_max+100,\\\n",
    "    color='black', lw=2)\n",
    "\n",
    "plt.tight_layout()\n",
    "plt.show()"
   ]
  },
  {
   "cell_type": "code",
   "execution_count": null,
   "id": "a1c6f711-5848-4e0e-9ddd-da435127e8ba",
   "metadata": {},
   "outputs": [],
   "source": [
    " from sklearn.metrics import mean_squared_error, mean_absolute_error"
   ]
  },
  {
   "cell_type": "code",
   "execution_count": null,
   "id": "1ff93965-b7fb-4553-bfb3-0c89f1fb2079",
   "metadata": {},
   "outputs": [],
   "source": [
    "mae_train = mean_absolute_error(y_train, y_train_pred)\n",
    "mae_test = mean_absolute_error(y_test, y_test_pred)"
   ]
  },
  {
   "cell_type": "code",
   "execution_count": null,
   "id": "1157055f-8032-45a5-9849-2b8a0ef43e84",
   "metadata": {},
   "outputs": [],
   "source": [
    "print(f'MAE train: {mae_train:.2f}')\n",
    "print(f'MAE test: {mae_test:.2f}')"
   ]
  },
  {
   "cell_type": "code",
   "execution_count": null,
   "id": "067f37c9-0ff4-4137-a20a-538a6cf07ea1",
   "metadata": {},
   "outputs": [],
   "source": [
    "print('R2 train', price_est.score(X_train, y_train))\n",
    "print('R2 test', price_est.score(X_test, y_test))\n"
   ]
  },
  {
   "cell_type": "markdown",
   "id": "80fadb1f-a5ff-4a6c-894b-c07e4d7d6560",
   "metadata": {},
   "source": [
    "## Polynomial Features"
   ]
  },
  {
   "cell_type": "markdown",
   "id": "603fe1cc-55cd-4f35-82c2-d7dda9ed7ffa",
   "metadata": {
    "tags": []
   },
   "source": [
    "Linear models cannot detect interactions between features. One way around this limitation is to create new features that encode the interactions we're interested in.  For example, we can use the values given by the product of each pair (or tuple) of features.  This is exactly what Scikit-Learn's [`PolynomialFeatures`](http://scikit-learn.org/stable/modules/generated/sklearn.preprocessing.PolynomialFeatures.html) transformer does."
   ]
  },
  {
   "cell_type": "code",
   "execution_count": null,
   "id": "ca4b6809-96c7-4a83-96d0-233e19ffdd64",
   "metadata": {},
   "outputs": [],
   "source": []
  },
  {
   "cell_type": "markdown",
   "id": "c28a0eaa-5aed-4861-aff5-6dc434d4c0c2",
   "metadata": {},
   "source": [
    "## Nonlinear Regression -> Random forest"
   ]
  },
  {
   "cell_type": "markdown",
   "id": "d8a00ca1-3835-496b-bc2d-0824132021d6",
   "metadata": {},
   "source": [
    "We can also deal with nonlinear relationships by moving away from linear models. We can try out random forest regression, which is an ensemble of multiple\n",
    "decision trees, in contrast to the global linear regression model that we discussed previously."
   ]
  },
  {
   "cell_type": "markdown",
   "id": "516de3f1-aff7-4139-8ebb-997ec6be64ef",
   "metadata": {},
   "source": [
    "Let's also add some extra features in our working dataset"
   ]
  },
  {
   "cell_type": "code",
   "execution_count": null,
   "id": "19bbff84-f0cf-49ef-8ef8-93a4f0532ced",
   "metadata": {},
   "outputs": [],
   "source": [
    "columns = ['Overall Qual', 'Overall Cond', 'Gr Liv Area', 'Central Air', 'Total Bsmt SF', 'House Style',  'SalePrice']\n",
    "df = df_dataset[columns]\n",
    "df.head()\n",
    "\n",
    "df['Central Air'] = df['Central Air'].map({'N': 0, 'Y': 1})\n",
    "df.head()\n",
    "\n",
    "\n",
    "# Clean up any Nans...\n",
    "df[df.isna().any(axis=1)]\n",
    "print('Found this many nans:', df[df.isna().any(axis=1)].shape)\n",
    "df = df.dropna()\n"
   ]
  },
  {
   "cell_type": "code",
   "execution_count": null,
   "id": "fe12f32d-04cb-4d36-9248-03bbeac6f630",
   "metadata": {},
   "outputs": [],
   "source": [
    "\n",
    "target = 'SalePrice'\n",
    "features = df.columns[df.columns != target]\n",
    "\n",
    "X = df[features]\n",
    "y= df[target]\n",
    "\n",
    "\n",
    "X,y = X.values, y.values # Convert to numpy arrays\n",
    "\n",
    "X_train, X_test, y_train, y_test = train_test_split(X, y, test_size=0.2, random_state=24)"
   ]
  },
  {
   "cell_type": "markdown",
   "id": "caacf2db-f722-4286-bbc0-c395beb346a7",
   "metadata": {
    "tags": []
   },
   "source": [
    "### One hot encoding"
   ]
  },
  {
   "cell_type": "code",
   "execution_count": null,
   "id": "e7414263-4e59-490b-b911-c204a91d0c65",
   "metadata": {},
   "outputs": [],
   "source": [
    "df['House Style'].value_counts()"
   ]
  },
  {
   "cell_type": "code",
   "execution_count": null,
   "id": "c282b45d-0a38-4398-8bd3-a6d50d21065e",
   "metadata": {},
   "outputs": [],
   "source": []
  },
  {
   "cell_type": "code",
   "execution_count": null,
   "id": "200f967b-5812-487b-9efa-9668bb8a97cd",
   "metadata": {},
   "outputs": [],
   "source": [
    "from sklearn.preprocessing import OneHotEncoder\n",
    "\n",
    "one_hot_transformer = OneHotEncoder(sparse=False)\n",
    "res  = one_hot_transformer.fit_transform(df[['House Style']].values)"
   ]
  },
  {
   "cell_type": "code",
   "execution_count": null,
   "id": "9ed8f288-3e10-4da9-a428-38384667bc84",
   "metadata": {},
   "outputs": [],
   "source": [
    "res"
   ]
  },
  {
   "cell_type": "code",
   "execution_count": null,
   "id": "8bda9584-d00d-48f5-a126-29240aad3f41",
   "metadata": {},
   "outputs": [],
   "source": [
    "one_hot_transformer.n_features_in_"
   ]
  },
  {
   "cell_type": "code",
   "execution_count": null,
   "id": "ffd2985b-28ce-4460-b102-05dd43eb1f8c",
   "metadata": {},
   "outputs": [],
   "source": [
    "one_hot_transformer.categories_"
   ]
  },
  {
   "cell_type": "code",
   "execution_count": null,
   "id": "c1c5bb72-0447-4e44-8f0d-21353fb0635c",
   "metadata": {},
   "outputs": [],
   "source": [
    "one_hot_transformer.get_feature_names_out()"
   ]
  },
  {
   "cell_type": "markdown",
   "id": "58692240-92f5-48be-aaeb-a95f3386a0e9",
   "metadata": {},
   "source": [
    "### Pipelines"
   ]
  },
  {
   "cell_type": "code",
   "execution_count": null,
   "id": "f36f20d6-dc0e-4208-b0f3-f969902bde7b",
   "metadata": {},
   "outputs": [],
   "source": [
    "from sklearn.compose import ColumnTransformer\n",
    "from sklearn.pipeline import Pipeline\n"
   ]
  },
  {
   "cell_type": "code",
   "execution_count": null,
   "id": "64cfe78e-dd2d-41d8-a1d8-ea486497f55a",
   "metadata": {},
   "outputs": [],
   "source": [
    "df.columns"
   ]
  },
  {
   "cell_type": "code",
   "execution_count": null,
   "id": "83699130-3edc-4068-91ee-27f7ec417aee",
   "metadata": {},
   "outputs": [],
   "source": [
    "transformer_pipeline = Pipeline(\n",
    "    [\n",
    "        (\"onehotencoder\", ColumnTransformer(\n",
    "            [\n",
    "                (\"onehotencoder\", OneHotEncoder(sparse=False), [5]),\n",
    "                ( 'nada', 'passthrough', [0,1,2,3,4])\n",
    "            ]\n",
    "        ))\n",
    "    ]\n",
    ")\n",
    "\n",
    "\n",
    "X_transformed = transformer_pipeline.fit_transform(X)"
   ]
  },
  {
   "cell_type": "code",
   "execution_count": null,
   "id": "0ca117ee-9f37-4f71-9070-707943cbe242",
   "metadata": {},
   "outputs": [],
   "source": [
    "X_transformed[0].shape"
   ]
  },
  {
   "cell_type": "code",
   "execution_count": null,
   "id": "7d842ac7-3b4e-4a6f-95ca-7c13048db87d",
   "metadata": {},
   "outputs": [],
   "source": [
    "from sklearn.ensemble import RandomForestRegressor"
   ]
  },
  {
   "cell_type": "code",
   "execution_count": null,
   "id": "53a3da56-b3a4-4be7-a8e6-884c37370349",
   "metadata": {},
   "outputs": [],
   "source": [
    "forest = RandomForestRegressor(\n",
    "    n_estimators=1000,\n",
    "     criterion='squared_error',\n",
    "     random_state=22,\n",
    "     n_jobs=-1)"
   ]
  },
  {
   "cell_type": "code",
   "execution_count": null,
   "id": "2794454a-e5d5-4588-ac72-64ff00e3576c",
   "metadata": {},
   "outputs": [],
   "source": [
    "pipeline = Pipeline(\n",
    "    [\n",
    "        (\"onehotencoder\", ColumnTransformer(\n",
    "            [\n",
    "                (\"onehotencoder\", OneHotEncoder(sparse=False), [5]),\n",
    "                ( 'nada', 'passthrough', [0,1,2,3,4])\n",
    "            ]\n",
    "        )),\n",
    "        (\n",
    "            \"random_forest\", forest\n",
    "        )\n",
    "    ]\n",
    ")\n",
    "\n",
    "\n",
    "pipeline.fit(X_train, y_train)"
   ]
  },
  {
   "cell_type": "code",
   "execution_count": null,
   "id": "7d65b0d5-9fc5-439e-9d5a-417d5284176b",
   "metadata": {},
   "outputs": [],
   "source": [
    "y_train_pred = pipeline.predict(X_train)\n",
    "y_test_pred = pipeline.predict(X_test)\n",
    "\n",
    "x_max = np.max([np.max(y_train_pred), np.max(y_test_pred)])\n",
    "x_min = np.min([np.min(y_train_pred), np.min(y_test_pred)])\n",
    "\n",
    "fig, (ax1, ax2) = plt.subplots( 1, 2, figsize=(7, 3), sharey=True)\n",
    "\n",
    "ax1.scatter(\n",
    "    y_test_pred, y_test_pred - y_test,\n",
    "    c='limegreen', marker='s',\n",
    "    edgecolor='white',\n",
    "    label='Test data')\n",
    "ax2.scatter(\n",
    "    y_train_pred, y_train_pred - y_train,\n",
    "    c='steelblue', marker='o', edgecolor='white',\n",
    "    label='Training data')\n",
    "ax1.set_ylabel('Residuals')\n",
    "\n",
    "for ax in (ax1, ax2):\n",
    "    ax.set_xlabel('Predicted values')\n",
    "    ax.legend(loc='upper left')\n",
    "    ax.hlines(y=0, xmin=x_min-100, xmax=x_max+100,\\\n",
    "    color='black', lw=2)\n",
    "\n",
    "plt.tight_layout()\n",
    "plt.show()"
   ]
  },
  {
   "cell_type": "code",
   "execution_count": null,
   "id": "5c1f8294-c0e7-4fd2-851b-46369ed05733",
   "metadata": {},
   "outputs": [],
   "source": [
    "mae_train = mean_absolute_error(y_train, y_train_pred)\n",
    "mae_test = mean_absolute_error(y_test, y_test_pred)\n",
    "\n",
    "print(f'MAE train: {mae_train:.2f}')\n",
    "print(f'MAE test: {mae_test:.2f}')"
   ]
  },
  {
   "cell_type": "code",
   "execution_count": null,
   "id": "545cc173-0b49-4380-b2bb-5c18c97d12c9",
   "metadata": {},
   "outputs": [],
   "source": [
    "print('R2 train', pipeline.score(X_train, y_train))\n",
    "print('R2 test', pipeline.score(X_test, y_test))\n"
   ]
  },
  {
   "cell_type": "markdown",
   "id": "a7bbf6ef-0b54-4cb4-be39-d3338498e2a7",
   "metadata": {},
   "source": [
    "### Saving your model"
   ]
  },
  {
   "cell_type": "code",
   "execution_count": null,
   "id": "8c6b253c-72fc-4321-a069-abfa4e13a722",
   "metadata": {},
   "outputs": [],
   "source": [
    "import pickle"
   ]
  },
  {
   "cell_type": "code",
   "execution_count": null,
   "id": "ec63788c-28f5-4058-8942-f944489cbd30",
   "metadata": {},
   "outputs": [],
   "source": [
    "with open('HousePricePredictor.pkl', 'wb') as f:\n",
    "    pickle.dump(pipeline, f)"
   ]
  },
  {
   "cell_type": "code",
   "execution_count": null,
   "id": "f6bd2255-7f0c-498f-b066-be4b42b83125",
   "metadata": {},
   "outputs": [],
   "source": [
    "with open('HousePricePredictor.pkl', 'rb') as f:\n",
    "    reloaded_pipeline = pickle.load(f)"
   ]
  },
  {
   "cell_type": "markdown",
   "id": "5892355d-9aaf-4def-b6d3-4d9486ca3e46",
   "metadata": {},
   "source": [
    "Test to make sure it works"
   ]
  },
  {
   "cell_type": "code",
   "execution_count": null,
   "id": "58e97570-aa14-447b-a8a6-f783265e7f94",
   "metadata": {},
   "outputs": [],
   "source": [
    "reloaded_pipeline.predict([X_test[45]])"
   ]
  },
  {
   "cell_type": "markdown",
   "id": "bbd4be50-7d71-47ca-9963-1a950621e562",
   "metadata": {},
   "source": [
    "## Alternative way of one hot encoding\n",
    "\n",
    "Make use of pandas `get_dummys` function.\n",
    "\n",
    "Think about the difference between approaches. When might this be useful?"
   ]
  },
  {
   "cell_type": "code",
   "execution_count": null,
   "id": "20ceead4-e9f6-4468-943c-1617f8726471",
   "metadata": {},
   "outputs": [],
   "source": [
    "columns = ['Overall Qual', 'Overall Cond', 'Gr Liv Area', 'Central Air', 'Total Bsmt SF', 'House Style',  'SalePrice']\n",
    "df = df_dataset[columns]\n",
    "df.head()\n",
    "\n",
    "df['Central Air'] = df['Central Air'].map({'N': 0, 'Y': 1})\n",
    "df.head()\n",
    "\n",
    "\n",
    "# Clean up any Nans...\n",
    "df[df.isna().any(axis=1)]\n",
    "print('Found this many nans:', df[df.isna().any(axis=1)].shape)\n",
    "df = df.dropna()\n",
    "df.head()"
   ]
  },
  {
   "cell_type": "code",
   "execution_count": null,
   "id": "95e39dfe-0307-4229-be83-344b16095570",
   "metadata": {},
   "outputs": [],
   "source": [
    "pd.get_dummies(df['House Style'])"
   ]
  },
  {
   "cell_type": "code",
   "execution_count": null,
   "id": "9b24247b-e932-43d2-b11e-5071c0cbd830",
   "metadata": {},
   "outputs": [],
   "source": [
    "from sklearn.datasets import load_diabetes\n",
    "diabetes_data = load_diabetes()"
   ]
  },
  {
   "cell_type": "code",
   "execution_count": null,
   "id": "b0413007-5bfd-43c1-a382-6b95403407d9",
   "metadata": {},
   "outputs": [],
   "source": []
  }
 ],
 "metadata": {
  "kernelspec": {
   "display_name": "Python 3 (ipykernel)",
   "language": "python",
   "name": "python3"
  },
  "language_info": {
   "codemirror_mode": {
    "name": "ipython",
    "version": 3
   },
   "file_extension": ".py",
   "mimetype": "text/x-python",
   "name": "python",
   "nbconvert_exporter": "python",
   "pygments_lexer": "ipython3",
   "version": "3.9.10"
  }
 },
 "nbformat": 4,
 "nbformat_minor": 5
}
