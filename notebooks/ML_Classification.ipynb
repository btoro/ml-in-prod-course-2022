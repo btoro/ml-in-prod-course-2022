{
 "cells": [
  {
   "cell_type": "code",
   "execution_count": null,
   "id": "53dea7c6-a7fa-4bfd-b3c9-f0d8d7cda002",
   "metadata": {},
   "outputs": [],
   "source": [
    "%matplotlib inline\n",
    "import matplotlib\n",
    "import matplotlib.pyplot as plt\n",
    "import seaborn as sns\n",
    "sns.set()\n",
    "matplotlib.rcParams['figure.dpi'] = 144\n",
    "\n",
    "import pandas as pd\n",
    "import numpy as np\n",
    "\n",
    "random.seed(50)"
   ]
  },
  {
   "cell_type": "markdown",
   "id": "5d9f601f-137f-44dd-aca8-160b3eaccabe",
   "metadata": {},
   "source": [
    "Inspiration from https://www.kaggle.com/code/andls555/heart-disease-prediction"
   ]
  },
  {
   "cell_type": "markdown",
   "id": "372dc0a4-785d-4e88-9e41-7f424ce1f711",
   "metadata": {},
   "source": [
    "Obtain dataset from here: https://www.kaggle.com/code/andls555/heart-disease-prediction/data"
   ]
  },
  {
   "cell_type": "code",
   "execution_count": null,
   "id": "a0fd3bb5-8768-4fcd-a6eb-7f4192046d84",
   "metadata": {},
   "outputs": [],
   "source": [
    "df = pd.read_csv('../data/heart_2020_cleaned.csv')\n",
    "df.head()\n",
    "\n",
    "target = 'HeartDisease'\n",
    "features = df.columns[df.columns != target]\n",
    "\n",
    "X = df[features]\n",
    "y = df[target]"
   ]
  },
  {
   "cell_type": "markdown",
   "id": "17a83f13-42ac-4d91-98e6-3c825ef7dd69",
   "metadata": {},
   "source": [
    "First lets see what our target looks like, and its distribution"
   ]
  },
  {
   "cell_type": "code",
   "execution_count": null,
   "id": "730481c0-7572-43e5-985d-b8536272a860",
   "metadata": {},
   "outputs": [],
   "source": [
    "df[target].value_counts()"
   ]
  },
  {
   "cell_type": "code",
   "execution_count": null,
   "id": "01d36408-04b8-4497-8262-4c2142fb925f",
   "metadata": {},
   "outputs": [],
   "source": [
    "df.shape"
   ]
  },
  {
   "cell_type": "markdown",
   "id": "de1caafa-bd05-4c5c-9559-f0010ed3b8e1",
   "metadata": {},
   "source": [
    "Lets quickly view the data"
   ]
  },
  {
   "cell_type": "code",
   "execution_count": null,
   "id": "f361f2d2-9e66-466e-8257-37c64c6a1aaa",
   "metadata": {
    "tags": []
   },
   "outputs": [],
   "source": [
    "sns.pairplot(df.sample(1000))"
   ]
  },
  {
   "cell_type": "markdown",
   "id": "3ed7616d-03d7-4752-8008-0993781c1e99",
   "metadata": {},
   "source": [
    "## Data Cleanup"
   ]
  },
  {
   "cell_type": "markdown",
   "id": "1ebe72da-f63a-40b6-843e-a203089a9b05",
   "metadata": {},
   "source": [
    "How come such few features are plotted?"
   ]
  },
  {
   "cell_type": "code",
   "execution_count": null,
   "id": "4ca99edb-cdd3-4574-ba36-fd0513f60998",
   "metadata": {},
   "outputs": [],
   "source": [
    "df.describe()"
   ]
  },
  {
   "cell_type": "code",
   "execution_count": null,
   "id": "71c64156-bf2f-475d-9849-dee06f0544f2",
   "metadata": {},
   "outputs": [],
   "source": [
    "df.info()"
   ]
  },
  {
   "cell_type": "code",
   "execution_count": null,
   "id": "2a2aa46b-ae69-4f17-b167-dca409328d75",
   "metadata": {},
   "outputs": [],
   "source": [
    "df.nunique()"
   ]
  },
  {
   "cell_type": "markdown",
   "id": "949c3daf-b9de-47b0-8656-5ee737dce548",
   "metadata": {},
   "source": [
    "Lets handle all the categorical data. Some have two values (which we can easily encode as 0,1), and others might encode different categories, in which case we will want to take another approach.\n",
    "Think about whether the data represented is ordinal or nominal."
   ]
  },
  {
   "cell_type": "code",
   "execution_count": null,
   "id": "ac3bbeb6-86fa-4a15-a815-bba3b9a97ddf",
   "metadata": {},
   "outputs": [],
   "source": [
    "df.head()"
   ]
  },
  {
   "cell_type": "code",
   "execution_count": null,
   "id": "221a0852-f1bf-4751-9d76-2dd773eb01e4",
   "metadata": {},
   "outputs": [],
   "source": [
    "selected_columns = ['HeartDisease', 'Smoking', 'AlcoholDrinking', 'Stroke', 'DiffWalking', 'PhysicalActivity', 'Asthma', 'KidneyDisease', 'SkinCancer']\n",
    "df[selected_columns] = df[selected_columns].replace({'Yes':1, 'No':0})\n",
    "\n",
    "df['Sex'] = df['Sex'].replace({'Male':0, 'Female':1})"
   ]
  },
  {
   "cell_type": "code",
   "execution_count": null,
   "id": "dcf52250-4cc5-4942-bc2b-23be55107834",
   "metadata": {},
   "outputs": [],
   "source": [
    "df.head()"
   ]
  },
  {
   "cell_type": "code",
   "execution_count": null,
   "id": "426e2664-7948-49b6-9c51-8c6d3637de2a",
   "metadata": {},
   "outputs": [],
   "source": [
    "df.GenHealth.value_counts()"
   ]
  },
  {
   "cell_type": "code",
   "execution_count": null,
   "id": "d475eb77-accd-4ebf-80d0-98c457d67795",
   "metadata": {},
   "outputs": [],
   "source": [
    "df.Diabetic.value_counts()"
   ]
  },
  {
   "cell_type": "code",
   "execution_count": null,
   "id": "007001e4-1db6-4667-a77b-e36d63cc6c2b",
   "metadata": {},
   "outputs": [],
   "source": [
    "df['Diabetic'] = df['Diabetic'].replace({'Yes': 1, 'No':0, 'Yes (during pregnancy)':1, 'No, borderline diabetes':0})\n"
   ]
  },
  {
   "cell_type": "code",
   "execution_count": null,
   "id": "e9a7fc5a-cd90-40da-b748-98fa80d4c81a",
   "metadata": {},
   "outputs": [],
   "source": [
    "sns.pairplot(df.sample(1000), hue='HeartDisease')"
   ]
  },
  {
   "cell_type": "markdown",
   "id": "d278327e-a6ae-46e2-8e1a-fb1b09041b81",
   "metadata": {},
   "source": [
    "Visualize categorical data"
   ]
  },
  {
   "cell_type": "code",
   "execution_count": null,
   "id": "c0ddb9ad-26e7-47f8-8d5f-f656c79a1b08",
   "metadata": {},
   "outputs": [],
   "source": [
    "sns.catplot(x=\"Sex\", hue=\"HeartDisease\", kind=\"count\", data=df.sample(1000))\n",
    "# Recall: df['Sex'] = df['Sex'].replace({'Male':0, 'Female':1})"
   ]
  },
  {
   "cell_type": "code",
   "execution_count": null,
   "id": "ffc189cf-cc1c-494e-a44e-bd6b04b3f271",
   "metadata": {},
   "outputs": [],
   "source": [
    "df.groupby('Sex').HeartDisease.value_counts(normalize=True).unstack().plot.bar()"
   ]
  },
  {
   "cell_type": "code",
   "execution_count": null,
   "id": "84c7cf2d-c275-41f1-9202-7f250fd5269c",
   "metadata": {},
   "outputs": [],
   "source": [
    "sns.catplot(x=\"GenHealth\", hue=\"HeartDisease\", kind='count', data=df.sample(1000),  order=['Poor',  'Fair', 'Good','Very good', 'Excellent'])"
   ]
  },
  {
   "cell_type": "code",
   "execution_count": null,
   "id": "85fef4b7-32e5-40bf-abdd-3b702c3dd694",
   "metadata": {},
   "outputs": [],
   "source": [
    "sns.catplot(x=\"BMI\", y=\"GenHealth\", hue=\"HeartDisease\", order=['Poor',  'Fair', 'Good','Very good', 'Excellent'],\n",
    "            kind=\"box\", data=df.sample(10000))"
   ]
  },
  {
   "cell_type": "markdown",
   "id": "edddc756-b619-47dd-8ff8-03929aebc932",
   "metadata": {},
   "source": [
    "Heatmap to view correlations between numerical features"
   ]
  },
  {
   "cell_type": "code",
   "execution_count": null,
   "id": "7ef87c7f-831c-40a6-98a0-dc811db1d965",
   "metadata": {},
   "outputs": [],
   "source": [
    "correlation = df.corr().round(2)\n",
    "plt.figure(figsize = (14,7))\n",
    "sns.heatmap(correlation, annot = True, cmap = 'YlOrBr')"
   ]
  },
  {
   "cell_type": "code",
   "execution_count": null,
   "id": "15c3d4c6-261a-4993-b5fb-7122ce9a8eca",
   "metadata": {},
   "outputs": [],
   "source": [
    "plt.figure(figsize = (13,6))\n",
    "plt.title('Distribution of correlation of features')\n",
    "abs(correlation['HeartDisease']).sort_values()[:-1].plot.barh()\n",
    "plt.show()"
   ]
  },
  {
   "cell_type": "code",
   "execution_count": null,
   "id": "64c4b572-44b0-47aa-b94f-77b905e49044",
   "metadata": {},
   "outputs": [],
   "source": [
    "sns.displot(df.sample(1000), x=\"DiffWalking\", hue=\"HeartDisease\", kind=\"kde\", fill=True)"
   ]
  },
  {
   "cell_type": "code",
   "execution_count": null,
   "id": "e62ea25e-b2c7-4f00-8315-fda8f005bc15",
   "metadata": {},
   "outputs": [],
   "source": [
    "\n",
    "sns.displot(df.sample(10000), x=\"DiffWalking\", hue=\"HeartDisease\", kind='kde', common_norm=False, fill=True)"
   ]
  },
  {
   "cell_type": "code",
   "execution_count": null,
   "id": "ed6700ec-8080-4b13-b6a4-17840b35f4ee",
   "metadata": {},
   "outputs": [],
   "source": [
    "sns.displot(df.sample(100000), x=\"BMI\", hue=\"HeartDisease\", kind='kde', common_norm=False, fill=True)"
   ]
  },
  {
   "cell_type": "markdown",
   "id": "049da812-fb74-4e11-9b00-be084942e8df",
   "metadata": {},
   "source": [
    "## Data processing"
   ]
  },
  {
   "cell_type": "markdown",
   "id": "676365c7-7a98-4736-9862-080a9aac6283",
   "metadata": {},
   "source": [
    "- Check for missing values\n",
    "- Onehot encoding\n",
    "- Train test split\n",
    "\n",
    "- Standardize data\n"
   ]
  },
  {
   "cell_type": "code",
   "execution_count": null,
   "id": "5882c1eb-3502-4d06-8c65-9ac38a69c1a2",
   "metadata": {},
   "outputs": [],
   "source": [
    "df.isnull().any()"
   ]
  },
  {
   "cell_type": "code",
   "execution_count": null,
   "id": "e5ae0d21-7199-45eb-b60a-79abb4ecb3ee",
   "metadata": {},
   "outputs": [],
   "source": [
    "from sklearn.compose import ColumnTransformer\n",
    "from sklearn.preprocessing import OneHotEncoder, StandardScaler\n",
    "from sklearn.pipeline import Pipeline\n",
    "from sklearn.model_selection import train_test_split\n",
    "\n"
   ]
  },
  {
   "cell_type": "code",
   "execution_count": null,
   "id": "77c648d0-88d9-41c0-8f43-8b35022a10fd",
   "metadata": {},
   "outputs": [],
   "source": [
    "df.shape"
   ]
  },
  {
   "cell_type": "code",
   "execution_count": null,
   "id": "37d39170-364c-4dad-8a82-3ed5966b337b",
   "metadata": {},
   "outputs": [],
   "source": [
    "target = 'HeartDisease'\n",
    "features = df.columns[df.columns != target]\n",
    "\n",
    "sample_count = 100000\n",
    "\n",
    "if sample_count:\n",
    "    X = df.sample(sample_count)[features]\n",
    "    y = df.sample(sample_count)[target]\n",
    "else:\n",
    "    X = df[features]\n",
    "    y = df[target]  \n",
    "\n",
    "X.shape"
   ]
  },
  {
   "cell_type": "code",
   "execution_count": null,
   "id": "ea236d85-275d-4820-85a3-5e2813fe74a6",
   "metadata": {},
   "outputs": [],
   "source": [
    "X.head()"
   ]
  },
  {
   "cell_type": "code",
   "execution_count": null,
   "id": "a69563d4-30dc-479f-a2a6-7caa29fcfa51",
   "metadata": {},
   "outputs": [],
   "source": [
    "X_train, X_test, y_train, y_test = train_test_split(X, y, test_size=0.2, random_state=24)"
   ]
  },
  {
   "cell_type": "code",
   "execution_count": null,
   "id": "8a57d2e4-22ce-46fe-8274-4f51f3932f34",
   "metadata": {},
   "outputs": [],
   "source": []
  },
  {
   "cell_type": "markdown",
   "id": "d4135aed-daee-431b-a1ef-0ebdbd44063f",
   "metadata": {},
   "source": [
    "Here let's specificy columsn we want to apply transformers to"
   ]
  },
  {
   "cell_type": "code",
   "execution_count": null,
   "id": "6cd2168d-125d-4353-87bf-59e3fd2c359b",
   "metadata": {},
   "outputs": [],
   "source": [
    "categorical_columns = ['AgeCategory', 'Race', 'GenHealth']\n",
    "numerical_columns = ['BMI', 'PhysicalHealth', 'MentalHealth', 'SleepTime']\n",
    "\n",
    "rest_columns = X.columns[~ X.columns.isin( categorical_columns) &  ~ X.columns.isin( numerical_columns)]\n",
    "rest_columns"
   ]
  },
  {
   "cell_type": "code",
   "execution_count": null,
   "id": "eb7c4bbe-2eb3-41ef-8bf7-09b3a9de868d",
   "metadata": {},
   "outputs": [],
   "source": []
  },
  {
   "cell_type": "code",
   "execution_count": null,
   "id": "69197fd0-3451-48b6-bab6-57b2316f59f4",
   "metadata": {},
   "outputs": [],
   "source": []
  },
  {
   "cell_type": "code",
   "execution_count": null,
   "id": "44778599-ac1f-457a-83e9-7779dd08e725",
   "metadata": {
    "tags": []
   },
   "outputs": [],
   "source": [
    "pipe = Pipeline(\n",
    "    [\n",
    "        (\"preprocessing\", ColumnTransformer(\n",
    "            [\n",
    "                (\"onehotencoder\", OneHotEncoder(sparse=False), categorical_columns),\n",
    "                (\"scale\", StandardScaler(), numerical_columns),\n",
    "                \n",
    "            ],\n",
    "            remainder=\"passthrough\"\n",
    "        ))\n",
    "    ]\n",
    ")\n",
    "\n",
    "\n"
   ]
  },
  {
   "cell_type": "markdown",
   "id": "768bb91e-fbdb-4717-b903-bab21e162b2d",
   "metadata": {},
   "source": [
    " Lets make sure this works so far!"
   ]
  },
  {
   "cell_type": "code",
   "execution_count": null,
   "id": "d7fbc48e-8d1e-40c6-8e0c-bcfca87a43aa",
   "metadata": {},
   "outputs": [],
   "source": [
    "X_transformed = pipe.fit_transform(X)\n",
    "X.shape, X_transformed.shape"
   ]
  },
  {
   "cell_type": "code",
   "execution_count": null,
   "id": "88ad2b3b-66ae-462e-b0d1-347d37256064",
   "metadata": {},
   "outputs": [],
   "source": [
    "pipe.get_feature_names_out()"
   ]
  },
  {
   "cell_type": "code",
   "execution_count": null,
   "id": "b454a7bf-8324-4f2f-9a5b-ef735f31db0a",
   "metadata": {},
   "outputs": [],
   "source": [
    "X_transformed[0]"
   ]
  },
  {
   "cell_type": "markdown",
   "id": "74d47386-57a6-418a-94cf-a42e0dd12db0",
   "metadata": {},
   "source": [
    "## Model selection"
   ]
  },
  {
   "cell_type": "code",
   "execution_count": null,
   "id": "d1ebe567-7db9-4635-ab7f-cf1d54eef4e9",
   "metadata": {},
   "outputs": [],
   "source": [
    "def evaluate_model(model, x_test, y_test, should_print=True):\n",
    "    from sklearn import metrics\n",
    "\n",
    "    # Predict Test Data \n",
    "    y_pred = model.predict(x_test)\n",
    "\n",
    "    # Calculate accuracy, precision, recall, f1-score, and kappa score\n",
    "    acc = metrics.accuracy_score(y_test, y_pred)\n",
    "    prec = metrics.precision_score(y_test, y_pred)\n",
    "    rec = metrics.recall_score(y_test, y_pred)\n",
    "    f1 = metrics.f1_score(y_test, y_pred)\n",
    "    kappa = metrics.cohen_kappa_score(y_test, y_pred)\n",
    "\n",
    "    # Calculate area under curve (AUC)\n",
    "    y_pred_proba = model.predict_proba(x_test)[::,1]\n",
    "    fpr, tpr, _ = metrics.roc_curve(y_test, y_pred_proba)\n",
    "    auc = metrics.roc_auc_score(y_test, y_pred_proba)\n",
    "\n",
    "    # Display confussion matrix\n",
    "    cm = metrics.confusion_matrix(y_test, y_pred)\n",
    "    \n",
    "    if should_print:\n",
    "        print('Accuracy:',acc)\n",
    "        print('Precision:',prec)\n",
    "        print('Recall:',rec)\n",
    "        print('F1 Score:',f1)\n",
    "        print('Cohens Kappa Score:',kappa)\n",
    "        print('Area Under Curve:',auc)\n",
    "        print('Confusion Matrix:\\n',cm)\n",
    "\n",
    "\n",
    "\n",
    "    return {'acc': acc, 'prec': prec, 'rec': rec, 'f1': f1, 'kappa': kappa, \n",
    "            'fpr': fpr, 'tpr': tpr, 'auc': auc, 'cm': cm}"
   ]
  },
  {
   "cell_type": "code",
   "execution_count": null,
   "id": "d2e8ff04-0a1d-4a44-8aad-2cfd01e08b6b",
   "metadata": {},
   "outputs": [],
   "source": [
    "def get_pipeline(*steps):\n",
    "    return  Pipeline(\n",
    "    [\n",
    "        (\"preprocessing\", ColumnTransformer(\n",
    "            [\n",
    "                (\"onehotencoder\", OneHotEncoder(sparse=False), categorical_columns),\n",
    "                (\"scale\", StandardScaler(), numerical_columns),\n",
    "                \n",
    "            ],\n",
    "            remainder=\"passthrough\"\n",
    "        )),\n",
    "        *steps\n",
    "    ]\n",
    ")\n",
    "\n",
    "\n"
   ]
  },
  {
   "cell_type": "code",
   "execution_count": null,
   "id": "79be13c8-91a2-49ae-a7b1-f5740350d941",
   "metadata": {},
   "outputs": [],
   "source": [
    "from sklearn.neighbors import KNeighborsClassifier\n",
    "knn = KNeighborsClassifier(n_neighbors = 5)\n",
    "\n"
   ]
  },
  {
   "cell_type": "code",
   "execution_count": null,
   "id": "6983f73e-d758-477d-83b9-e278bcfcf06a",
   "metadata": {
    "tags": []
   },
   "outputs": [],
   "source": [
    "pipe = get_pipeline(\n",
    "\n",
    "    ('knn', knn)\n",
    ")\n",
    "\n",
    "pipe"
   ]
  },
  {
   "cell_type": "code",
   "execution_count": null,
   "id": "38e583a6-1e68-40fb-9849-fc220af0321b",
   "metadata": {},
   "outputs": [],
   "source": [
    "pipe.fit(X_train, y_train)"
   ]
  },
  {
   "cell_type": "code",
   "execution_count": null,
   "id": "c815073d-0911-49de-956f-20be682101d9",
   "metadata": {},
   "outputs": [],
   "source": [
    "res = evaluate_model(pipe, X_test, y_test)"
   ]
  },
  {
   "cell_type": "code",
   "execution_count": null,
   "id": "8747cb0e-60f3-4aa2-ad9b-814b328077ba",
   "metadata": {},
   "outputs": [],
   "source": [
    "from sklearn.metrics import ConfusionMatrixDisplay\n",
    "\n",
    "cm_display = ConfusionMatrixDisplay(res['cm']).plot()\n",
    "cm_display.ax_.grid(False)"
   ]
  },
  {
   "cell_type": "markdown",
   "id": "67edd7b8-3e74-4ac2-976c-7af6e3d1a698",
   "metadata": {},
   "source": [
    "Repeat with another classifier"
   ]
  },
  {
   "cell_type": "code",
   "execution_count": null,
   "id": "b1ec4466-2d80-48ee-8587-fe926134effe",
   "metadata": {},
   "outputs": [],
   "source": [
    "from sklearn.tree import DecisionTreeClassifier"
   ]
  },
  {
   "cell_type": "code",
   "execution_count": null,
   "id": "c78f38e3-f9c4-4194-a2f4-6a2fd5682576",
   "metadata": {},
   "outputs": [],
   "source": [
    "tree = DecisionTreeClassifier(max_depth=15)\n",
    "pipe = get_pipeline(('tree', tree))\n",
    "pipe.fit(X_train, y_train)\n"
   ]
  },
  {
   "cell_type": "code",
   "execution_count": null,
   "id": "124258eb-9cbe-4774-89c9-97284f620537",
   "metadata": {},
   "outputs": [],
   "source": [
    "res = evaluate_model(pipe, X_test, y_test)"
   ]
  },
  {
   "cell_type": "code",
   "execution_count": null,
   "id": "0e1ae035-bd40-4750-9832-fd4a0fedcc72",
   "metadata": {},
   "outputs": [],
   "source": [
    "cm_display = ConfusionMatrixDisplay(res['cm']).plot()\n",
    "cm_display.ax_.grid(False)"
   ]
  },
  {
   "cell_type": "markdown",
   "id": "8d483d17-4029-49ed-9474-97a44694579f",
   "metadata": {},
   "source": [
    "## Grid search"
   ]
  },
  {
   "cell_type": "code",
   "execution_count": null,
   "id": "76e9a65c-2cf9-45f5-bdbe-1e3947330797",
   "metadata": {},
   "outputs": [],
   "source": [
    "tree = DecisionTreeClassifier(max_depth=15)\n",
    "pipe = get_pipeline(('tree', tree))"
   ]
  },
  {
   "cell_type": "code",
   "execution_count": null,
   "id": "edb81b25-c06e-46d8-ade9-049a6cfe1cef",
   "metadata": {},
   "outputs": [],
   "source": [
    "param_grid = {\n",
    "        # \"criterion\": ['gini', 'entropy'],\n",
    "        \"tree__max_depth\": range(5,20),\n",
    "        \"tree__min_samples_split\": range(1,10),\n",
    "        # \"min_samples_leaf\": range(1,10),\n",
    "}\n"
   ]
  },
  {
   "cell_type": "code",
   "execution_count": null,
   "id": "3771276f-2891-4104-9bcb-b8c28b316adb",
   "metadata": {},
   "outputs": [],
   "source": [
    "from sklearn.model_selection import GridSearchCV, RandomizedSearchCV"
   ]
  },
  {
   "cell_type": "code",
   "execution_count": null,
   "id": "f19f0c73-ebd7-4d21-9f33-82905cf720c9",
   "metadata": {},
   "outputs": [],
   "source": []
  },
  {
   "cell_type": "code",
   "execution_count": null,
   "id": "c88a8372-e16d-41a9-bd94-bc43bc1faf31",
   "metadata": {
    "tags": []
   },
   "outputs": [],
   "source": [
    "grid = GridSearchCV(pipe, param_grid=param_grid, cv=5, verbose=1, n_jobs=1, scoring='f1', refit=True)\n",
    "grid.fit(X_train, y_train)"
   ]
  },
  {
   "cell_type": "code",
   "execution_count": null,
   "id": "26f68db3-6a99-4ad6-8f89-09071a9c9e45",
   "metadata": {},
   "outputs": [],
   "source": [
    "print(grid.best_params_) "
   ]
  },
  {
   "cell_type": "code",
   "execution_count": null,
   "id": "b91e9f41-a6f9-46a4-81f3-a51f76e2e42f",
   "metadata": {},
   "outputs": [],
   "source": [
    "grid_predictions = grid.predict(X_test)"
   ]
  },
  {
   "cell_type": "code",
   "execution_count": null,
   "id": "e332d443-b6e5-4216-96e1-3c40c47d3774",
   "metadata": {},
   "outputs": [],
   "source": [
    "from sklearn.metrics import classification_report\n",
    "print(classification_report(y_test, grid_predictions)) "
   ]
  },
  {
   "cell_type": "code",
   "execution_count": null,
   "id": "d3438415-d871-4a9d-b541-1e95c449e180",
   "metadata": {},
   "outputs": [],
   "source": [
    "res = evaluate_model(grid, X_test, y_test)"
   ]
  },
  {
   "cell_type": "code",
   "execution_count": null,
   "id": "b5b92f8b-e87a-4542-94e7-7ca8ee6c854e",
   "metadata": {},
   "outputs": [],
   "source": [
    "cm_display = ConfusionMatrixDisplay(res['cm']).plot()\n",
    "cm_display.ax_.grid(False)"
   ]
  },
  {
   "cell_type": "markdown",
   "id": "397d5a3e-3553-468b-93fe-7746a6e8ac5a",
   "metadata": {},
   "source": [
    "## Ensemble Classifiers"
   ]
  },
  {
   "cell_type": "code",
   "execution_count": null,
   "id": "d0973112-1380-4db7-8673-028b3e08c905",
   "metadata": {},
   "outputs": [],
   "source": [
    "from sklearn.ensemble import GradientBoostingClassifier\n"
   ]
  },
  {
   "cell_type": "markdown",
   "id": "9eb72deb-856e-4f6e-b303-470776631239",
   "metadata": {},
   "source": [
    "# Model persistence model"
   ]
  },
  {
   "cell_type": "markdown",
   "id": "fd0a1c8b-9463-458c-8496-f0a01b3a9c31",
   "metadata": {},
   "source": [
    "Export any model using pickle which we will use in our next steps for ML serving"
   ]
  },
  {
   "cell_type": "code",
   "execution_count": null,
   "id": "034031fa-2d0d-482a-a972-fc0eeade955c",
   "metadata": {},
   "outputs": [],
   "source": [
    "param_grid = {\n",
    "        # \"model__max_depth\": [5, 6, 7],\n",
    "              'model__learning_rate': [.01, 0.03, .1],\n",
    "              'model__n_estimators': [200],\n",
    "              # 'model__subsample': [.7, .8, .9]\n",
    "             }\n",
    "\n",
    "\n",
    "gbc = GradientBoostingClassifier()\n",
    "pipe = get_pipeline(('model', gbc))\n",
    "grid = GridSearchCV(pipe, param_grid, cv=3, verbose=3, n_jobs=3, scoring='f1', refit=True)\n",
    "grid.fit(X_train, y_train)"
   ]
  },
  {
   "cell_type": "code",
   "execution_count": null,
   "id": "943c50be-39db-48f8-9d2e-e95a48cdf426",
   "metadata": {},
   "outputs": [],
   "source": [
    "print(grid.best_params_) "
   ]
  },
  {
   "cell_type": "code",
   "execution_count": null,
   "id": "41e6ef55-60a9-46bb-9fde-72c97a0cbc00",
   "metadata": {},
   "outputs": [],
   "source": [
    "res = evaluate_model(grid, X_test, y_test)"
   ]
  },
  {
   "cell_type": "code",
   "execution_count": null,
   "id": "f3b8364e-18c4-4a4d-9e12-c87f62a93785",
   "metadata": {},
   "outputs": [],
   "source": [
    "cm_display = ConfusionMatrixDisplay(res['cm']).plot()\n",
    "cm_display.ax_.grid(False)"
   ]
  },
  {
   "cell_type": "code",
   "execution_count": null,
   "id": "89837458-cc84-4a07-810b-25830a11bdc6",
   "metadata": {},
   "outputs": [],
   "source": [
    "import pickle\n",
    "\n",
    "best_est = grid.best_estimator_\n",
    "with open('../models/HF.pkl', 'wb') as f:\n",
    "    pickle.dump(best_est, f)"
   ]
  },
  {
   "cell_type": "code",
   "execution_count": null,
   "id": "80b52c9f-471f-47a3-aef9-bd6323d04379",
   "metadata": {},
   "outputs": [],
   "source": []
  },
  {
   "cell_type": "code",
   "execution_count": null,
   "id": "effc40fd-832e-4e0d-a553-ffdff3580dcb",
   "metadata": {},
   "outputs": [],
   "source": [
    "best_est.predict( X_test.iloc[3:4,:] )"
   ]
  },
  {
   "cell_type": "code",
   "execution_count": null,
   "id": "efa98a4a-728c-4261-ad2c-776feca3e044",
   "metadata": {},
   "outputs": [],
   "source": [
    "best_est.predict_proba( X_test.iloc[2:5,:] )"
   ]
  },
  {
   "cell_type": "code",
   "execution_count": null,
   "id": "f07c1f11-9817-4645-854e-15f0685b5af1",
   "metadata": {},
   "outputs": [],
   "source": [
    " X_test.iloc[3:6,:].to_json(orient='records')"
   ]
  },
  {
   "cell_type": "code",
   "execution_count": null,
   "id": "bc8ed21f-483d-411c-ab1c-c0270a5d9378",
   "metadata": {},
   "outputs": [],
   "source": [
    "y_test.iloc[4]"
   ]
  },
  {
   "cell_type": "code",
   "execution_count": null,
   "id": "129b32fd-5e52-402e-acf1-330703c2c743",
   "metadata": {},
   "outputs": [],
   "source": []
  }
 ],
 "metadata": {
  "kernelspec": {
   "display_name": "Python 3 (ipykernel)",
   "language": "python",
   "name": "python3"
  },
  "language_info": {
   "codemirror_mode": {
    "name": "ipython",
    "version": 3
   },
   "file_extension": ".py",
   "mimetype": "text/x-python",
   "name": "python",
   "nbconvert_exporter": "python",
   "pygments_lexer": "ipython3",
   "version": "3.9.10"
  }
 },
 "nbformat": 4,
 "nbformat_minor": 5
}
