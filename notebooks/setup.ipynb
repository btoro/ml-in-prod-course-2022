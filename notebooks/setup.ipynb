{
 "cells": [
  {
   "cell_type": "markdown",
   "id": "151fb0e0-a1f6-4b32-ab2e-9da5f8a39b35",
   "metadata": {
    "tags": []
   },
   "source": [
    "# Settings up your Python Workstation"
   ]
  },
  {
   "cell_type": "markdown",
   "id": "46a1ff77-0dff-4811-8231-0e765226fa4b",
   "metadata": {
    "tags": []
   },
   "source": [
    "\n",
    "\n",
    "## Python\n",
    "Make sure you have python installed. Ideally you should be using the latest stable version of python available. \n",
    "3.9, and 3.10 are good choices\n",
    "\n",
    "https://www.python.org\n",
    "\n"
   ]
  },
  {
   "cell_type": "markdown",
   "id": "4ccebd83-98da-419e-a878-a51a0ae1c251",
   "metadata": {
    "tags": []
   },
   "source": [
    "### Check your python version"
   ]
  },
  {
   "cell_type": "code",
   "execution_count": 3,
   "id": "54e372fd-2796-4a5d-9375-069bbe07d799",
   "metadata": {},
   "outputs": [
    {
     "name": "stdout",
     "output_type": "stream",
     "text": [
      "Python 3.9.10\n"
     ]
    }
   ],
   "source": [
    "!python --version"
   ]
  },
  {
   "cell_type": "markdown",
   "id": "8add637b-69b3-4ba1-a1fd-9df6893e8776",
   "metadata": {
    "tags": []
   },
   "source": [
    "## Managing Python versions\n",
    "\n",
    "In some cases you might need to work with different python versions for different projects. Tools like `pyenv` let you set different python versions per directory / project\n",
    "\n",
    "https://github.com/pyenv/pyenv\n",
    "\n"
   ]
  },
  {
   "cell_type": "code",
   "execution_count": 8,
   "id": "3df8a175-a36f-4848-b618-b32f952b653a",
   "metadata": {},
   "outputs": [
    {
     "name": "stdout",
     "output_type": "stream",
     "text": [
      "pyenv: no local version configured for this directory\n"
     ]
    }
   ],
   "source": [
    "!pyenv local"
   ]
  },
  {
   "cell_type": "code",
   "execution_count": 9,
   "id": "bdae0b5f-b74d-4479-a058-27fc4c74ba8b",
   "metadata": {},
   "outputs": [
    {
     "name": "stdout",
     "output_type": "stream",
     "text": [
      "3.8.10\n"
     ]
    }
   ],
   "source": [
    "!pyenv global"
   ]
  },
  {
   "cell_type": "markdown",
   "id": "78352992-01d6-412e-a227-94b6c0f48903",
   "metadata": {},
   "source": [
    "Note: The `!` used in the jupyer cells above tells jupyter to run the commands in the shell (rather than within the python interpreter)\n",
    "When using commands in bash, you don't need to include the `!`"
   ]
  },
  {
   "cell_type": "markdown",
   "id": "59be2c8f-9b0c-4202-82d2-245a06a620b5",
   "metadata": {
    "tags": []
   },
   "source": [
    "## Package managers\n",
    "\n",
    "Next you'll need to manage packages installed for python. Package managers help you install packages, set versions, and maintain seperate environments (called \"virtual environments\" for each project.\n",
    "\n",
    "### Pip\n",
    "pip is part of the python standard library and is the main package manager that comes with python. pip is great because it is simple, but lacks features that very handy when working in different contexts. \n",
    "\n",
    "To use pip:"
   ]
  },
  {
   "cell_type": "code",
   "execution_count": null,
   "id": "ab82190c-4562-4645-a470-acbb6d702112",
   "metadata": {},
   "outputs": [],
   "source": [
    "!pip install PackageA"
   ]
  },
  {
   "cell_type": "code",
   "execution_count": null,
   "id": "1481f8ba-9312-4b7c-9931-d7073ff0e76b",
   "metadata": {},
   "outputs": [],
   "source": [
    "!pip install PackageA --upgrade"
   ]
  },
  {
   "cell_type": "markdown",
   "id": "0e9dfbfd-4d9d-4afd-a732-a03547bd6ccc",
   "metadata": {
    "tags": []
   },
   "source": [
    "### Conda\n",
    "A highly recommended open-source package management system for installing Python for scientific\n",
    "computing contexts is conda by Continuum Analytics.\n",
    "\n",
    "Several different flavors:\n",
    "- Anaconda: contains many base packages installed\n",
    "- Miniconda: no packages installed\n",
    "- Miniforge: no packages installed, pointing to the community maintained package repository\n",
    "\n",
    "Conda is very useful for data science and scientific contexts. Once you have all the essential pacakges installed, you can focus on the project at hand, without fussing with packages and virtual environments. \n",
    "\n",
    "To install packages on conda:"
   ]
  },
  {
   "cell_type": "code",
   "execution_count": null,
   "id": "1f6b832e-0688-4bf3-962c-d2d70477870c",
   "metadata": {},
   "outputs": [],
   "source": [
    "!conda install PackageA"
   ]
  },
  {
   "cell_type": "code",
   "execution_count": null,
   "id": "7ca1bfe0-50d5-4558-8df8-6e2485afa08c",
   "metadata": {},
   "outputs": [],
   "source": [
    "!conda update PackageA"
   ]
  },
  {
   "cell_type": "markdown",
   "id": "d0fa0952-f931-4482-816e-3b507ceaaae0",
   "metadata": {},
   "source": [
    "Conda can handles multiple envs for different projects. To list available envs:"
   ]
  },
  {
   "cell_type": "code",
   "execution_count": 19,
   "id": "bfce59c7-8890-4505-9e19-c02420c3b2cb",
   "metadata": {},
   "outputs": [
    {
     "name": "stdout",
     "output_type": "stream",
     "text": [
      "# conda environments:\n",
      "#\n",
      "base                  *  /home/botros/mambaforge\n",
      "\n"
     ]
    }
   ],
   "source": [
    "!conda env list"
   ]
  },
  {
   "cell_type": "markdown",
   "id": "29485af1-a8b8-41be-8354-462233e4b1a5",
   "metadata": {},
   "source": [
    "To create a new conda env (the -d flag indicates a dryrun (data isn't saved)):"
   ]
  },
  {
   "cell_type": "code",
   "execution_count": 17,
   "id": "c38eb4c8-34e4-40d1-bd39-64471ccc3dd0",
   "metadata": {},
   "outputs": [
    {
     "name": "stdout",
     "output_type": "stream",
     "text": [
      "Collecting package metadata (current_repodata.json): done\n",
      "Solving environment: done\n",
      "\n",
      "## Package Plan ##\n",
      "\n",
      "  environment location: /home/botros/mambaforge/envs/test1\n",
      "\n",
      "\n",
      "\n",
      "\n",
      "DryRunExit: Dry run. Exiting.\n",
      "\n"
     ]
    }
   ],
   "source": [
    "!conda create  -d -n test1"
   ]
  },
  {
   "cell_type": "markdown",
   "id": "da44c7b1-6830-481e-8991-143604ec0a4a",
   "metadata": {},
   "source": [
    "Learn more using the conda docs: https://docs.conda.io/en/latest/"
   ]
  },
  {
   "cell_type": "markdown",
   "id": "13ba2d46-9d99-4f87-aab6-1dc448c8d8cf",
   "metadata": {},
   "source": [
    "### venv\n",
    "Python contains a standard virtual environment manager as well called venv. https://docs.python.org/3/library/venv.html"
   ]
  },
  {
   "cell_type": "markdown",
   "id": "a6e2b1ca-985a-44a7-b7d8-22912c5ae6cd",
   "metadata": {},
   "source": [
    "### Poetry\n",
    "\n",
    "Poetry is another useful package manager that has gained lots of popularity. Poetry is more commonly used in python software development. However, it is very useful in more mature projects that are shared with other team members. \n",
    "\n",
    "Poetry handles installation, upgrading, and virtual env create of python packages. It will store the dependencies of the project in a file called: `pyproject.toml`. This file contains the dependency specifications for both production and development use cases.\n",
    "\n",
    "Poetry also creates a `poetry.lock` file, which specifies versions of all packages and their dependencies installed. This helps ensure that your environment is exactly the same. It's not always necessaary to make use of the lock file.\n",
    "\n",
    "https://python-poetry.org/docs/basic-usage/\n",
    "\n",
    "\n"
   ]
  },
  {
   "cell_type": "markdown",
   "id": "7f71419e-bdbc-4594-9546-18ebf6980ed9",
   "metadata": {
    "tags": []
   },
   "source": [
    "## Popular packages"
   ]
  },
  {
   "cell_type": "markdown",
   "id": "8bcfac2d-acb0-4afb-b9a9-28f20c0a9f4e",
   "metadata": {},
   "source": [
    "Here are some very useful packages that are handly in data science and scientific contexts. "
   ]
  },
  {
   "cell_type": "markdown",
   "id": "c497295a-1620-4c8e-b251-c7fcafc20324",
   "metadata": {},
   "source": [
    "- NumPy\n",
    "- SciPy\n",
    "- Scikit-learn \n",
    "- Matplotlib\n",
    "- pandas\n",
    "- jupyterlab"
   ]
  },
  {
   "cell_type": "markdown",
   "id": "b511a7cf-b070-4d0b-ae69-d83c9a2b1a84",
   "metadata": {},
   "source": [
    "Nice to have packages:\n",
    "- seaborn (nicer visualizations)\n",
    "- statsmodels\n",
    "- mlxtend\n",
    "- bentoml (package models)\n",
    "- mlflow"
   ]
  },
  {
   "cell_type": "markdown",
   "id": "eff0e2e2-112b-4633-9682-796be7d6df1d",
   "metadata": {},
   "source": [
    "For deep learning:\n",
    "- Tensorflow\n",
    "- Keras\n",
    "- Pytorch \n",
    "- Pytorch lightning "
   ]
  },
  {
   "cell_type": "markdown",
   "id": "3803e4be-0aac-49b0-a31c-43bbd13865bd",
   "metadata": {},
   "source": [
    "For testing\n",
    "- pytest"
   ]
  },
  {
   "cell_type": "markdown",
   "id": "cf64d4aa-7123-4305-b43f-42e7ed2585e3",
   "metadata": {
    "tags": []
   },
   "source": [
    "## Practical Tips"
   ]
  },
  {
   "cell_type": "markdown",
   "id": "49e18538-4255-4d99-8765-b78d659f5b9a",
   "metadata": {},
   "source": [
    "1. Create virutal environments for each project\n",
    "    Its good practice to have isolated environments for each project. This allows you to mess around with different packages and versions, without impacting other projects. \n",
    "\n",
    "2. If your package manager doesn't output a dependency file, create one, and keep it updated.\n",
    "    You can always get all requirements using pip: `pip freeze > requirements.txt`\n",
    "    \n",
    "3. Setup version control for all projects, and use it!\n",
    "    Version control is very useful even if working solo. You can easily revert code and keep track of your progress on a project.\n",
    "    \n",
    "4. Star popular projects on github. This lets you keep track of updates and new feature releases\n",
    "    "
   ]
  }
 ],
 "metadata": {
  "kernelspec": {
   "display_name": "Python 3 (ipykernel)",
   "language": "python",
   "name": "python3"
  },
  "language_info": {
   "codemirror_mode": {
    "name": "ipython",
    "version": 3
   },
   "file_extension": ".py",
   "mimetype": "text/x-python",
   "name": "python",
   "nbconvert_exporter": "python",
   "pygments_lexer": "ipython3",
   "version": "3.9.10"
  }
 },
 "nbformat": 4,
 "nbformat_minor": 5
}
